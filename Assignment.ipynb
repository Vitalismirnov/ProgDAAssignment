{
 "cells": [
  {
   "cell_type": "markdown",
   "metadata": {},
   "source": [
    "# Assignment\n",
    "## Programming for DA\n",
    "### Student: Vitalijs Smirnovs\n",
    "### ID: G00317774¶\n"
   ]
  },
  {
   "cell_type": "markdown",
   "metadata": {},
   "source": [
    "1.\tExplain the overall purpose of the package.\n",
    "2.\tExplain the use of the “Simple random data” and “Permutations” functions.\n",
    "3.\tExplain the use and purpose of at least five “Distributions” functions.\n",
    "4.\tExplain the use of seeds in generating pseudorandom numbers.\n"
   ]
  },
  {
   "cell_type": "markdown",
   "metadata": {},
   "source": [
    "### 1. Explain the overall purpose of the package.\n",
    "\n",
    "_Numpy.Random_ is a part of scientific computing tool for Python it is an open source software for scientific computing. This package was dveloped by _scipy.org_ for generating random numbers with diferent shapes and distributions. \n",
    "\n",
    "_SciPy_ refers to several related but distinct entities the _SciPy_ library,which is a collection of numerical algorithms and domain-specific toolboxes, including signal processing, optimization, statistics and much more.\n",
    "\n",
    "The package contains multiple functions which could be used in diferent situation for different tasks to represent data.\n",
    "\n",
    "A random _seed_ is a starting point in generating random numbers. A random seed specifies the starting point from which a computer generates a random number sequence. This can be any number, but it usually comes from seconds on a computer system's clock. \n",
    "\n",
    "**_Sources_**:\n",
    "[https://www.statisticshowto.datasciencecentral.com/random-seed-definition/]\n",
    "[https://scipy.org/about.html]"
   ]
  },
  {
   "cell_type": "markdown",
   "metadata": {},
   "source": [
    "### Simple random data\n"
   ]
  },
  {
   "cell_type": "code",
   "execution_count": 1,
   "metadata": {},
   "outputs": [],
   "source": [
    "# import libraries for analysis                                                                                                                                                                                                                                                                                                                                                                                        #import necessary library\n",
    "import matplotlib.pyplot as plt\n",
    "import numpy as np\n"
   ]
  },
  {
   "cell_type": "markdown",
   "metadata": {},
   "source": [
    "There are number of functions in a numpy.random library that generate random numbers. The generate random numbers in different shapes and distribution.\n",
    "\n",
    "The firts command bellow  - _np.random.rand_ - creates an array of the given shape and populates it with random numbers sampled from a uniform distribution in a range of [0, 1).  A unifor  distribution meand that every number has the same probability to be generated. See a histogram output below.\n",
    "\n",
    "We could add no, one or multiple parameters and get random returns and all of them would be positive:\n",
    " - If no parameter is given as in **np.random.rand()**, then a single ramdom number is returned.\n",
    " - If a single paramenter is inputted, as in **np.random.rand(10)**, an array of 10 random numbers will be returned\n",
    " - If a number of parameters are inputed, they are called dimentions as in **np.random.rand(4,3)**, an array with 4 rows and 3 columns will be returned.\n",
    " "
   ]
  },
  {
   "cell_type": "code",
   "execution_count": 2,
   "metadata": {},
   "outputs": [
    {
     "name": "stdout",
     "output_type": "stream",
     "text": [
      "0.9860716655824221\n",
      "[0.76329188 0.46605465 0.05610554 0.86859747 0.84148157 0.27628184\n",
      " 0.47404576 0.53257658 0.00329277 0.88124311]\n",
      "[[0.51885256 0.57890723 0.44434412]\n",
      " [0.50136463 0.96126835 0.63309737]\n",
      " [0.15262699 0.29290122 0.56353899]\n",
      " [0.0266803  0.35479246 0.18828238]]\n"
     ]
    },
    {
     "data": {
      "image/png": "[encoded data removed]",
      "text/plain": [
       "<Figure size 432x288 with 1 Axes>"
      ]
     },
     "metadata": {
      "needs_background": "light"
     },
     "output_type": "display_data"
    }
   ],
   "source": [
    "# generate and print on screen a random number\n",
    "print(np.random.rand())\n",
    "# generate and print 10 an array of 10 random numbers\n",
    "print(np.random.rand(10))\n",
    "# generate and print an array of random numbers with 4 rows and 3 columns\n",
    "print(np.random.rand(4,3))\n",
    "# draw a historgam\n",
    "plt.hist(np.random.rand(10000))\n",
    "plt.show()"
   ]
  },
  {
   "cell_type": "markdown",
   "metadata": {},
   "source": [
    "The random data generated is in uniform distribution (every value generated has the same probability) as can be seen on a historgam above. \n",
    "\n",
    "_np.random.rand()_ generates floats, while _numpy.random.randint()_ generates integerst. This function requires at least one parameter as an input, whic is a lowest bound for a interval from which random integest to generate. The higher bound and the number of numbers to generate can also be specified as parameters.\n",
    "\n",
    "Return random integers from the “discrete uniform” distribution of the specified dtype in the “half-open” interval [low, high). If high is None (the default), then results are from [0, low).\n",
    "\n",
    "As can be seen on a histogram below random integers are generated in a shape of a uniform distribution."
   ]
  },
  {
   "cell_type": "code",
   "execution_count": 8,
   "metadata": {},
   "outputs": [
    {
     "name": "stdout",
     "output_type": "stream",
     "text": [
      "4\n",
      "18\n",
      "[13 15 11 15 12 19 13 14 14 17]\n"
     ]
    },
    {
     "data": {
      "image/png": "[encoded data removed]",
      "text/plain": [
       "<Figure size 432x288 with 1 Axes>"
      ]
     },
     "metadata": {
      "needs_background": "light"
     },
     "output_type": "display_data"
    }
   ],
   "source": [
    "# generate and print a single random integer between 0 and 9 \n",
    "print(np.random.randint(10))\n",
    "# generate and print a single random integer between 10 and 19 \n",
    "print(np.random.randint(10, 20))\n",
    "# generate and print a single random integer between 0 and 9 \n",
    "print(np.random.randint(10, 20, 10))  \n",
    "# plot 10000 integers on a histogram    \n",
    "plt.hist(np.random.randint(10,size=10000) )\n",
    "plt.title(\"random.randint(10,size=10000)\")\n",
    "plt.show()    "
   ]
  },
  {
   "cell_type": "markdown",
   "metadata": {},
   "source": [
    "Another function in numpy.random library is _np.random.randn()_. This function generates random floats in a shape of normal distribution - the famous bell shape with a mean of 0 and standard deviation of 1.\n",
    "\n",
    "- If no parameters are inputted, a single float is outputted\n",
    "- If more than 1 parameter is inputted, this are taken as dimentions of an array. For example, _np.random.randn(4,3)_ returns an array of random floats from a standard normal distribution with 4 rows and 3 columns.\n",
    "- If one parameter is inputted an array with a number of values == input parameter is outputted."
   ]
  },
  {
   "cell_type": "code",
   "execution_count": 11,
   "metadata": {},
   "outputs": [
    {
     "name": "stdout",
     "output_type": "stream",
     "text": [
      "-1.9451058570386688\n",
      "[[-0.36918515 -0.52701179  0.80623932]\n",
      " [ 0.26255735 -0.54194509  0.80444979]\n",
      " [-0.61256176  1.90002376  0.21250848]\n",
      " [ 0.9677589   0.21108512 -0.8060651 ]]\n"
     ]
    },
    {
     "data": {
      "image/png": "[encoded data removed]",
      "text/plain": [
       "<Figure size 432x288 with 1 Axes>"
      ]
     },
     "metadata": {
      "needs_background": "light"
     },
     "output_type": "display_data"
    }
   ],
   "source": [
    "# generate and print a single float from a notmal distribution\n",
    "print(np.random.randn())\n",
    "# generate and print an array of random floats from a normal distribution\n",
    "# with 4 row and 3 columns\n",
    "print(np.random.randn(4,3))\n",
    "# plot 1000 random numbers from a normal distribution on a histogram\n",
    "plt.hist(np.random.randn(1000))\n",
    "plt.show()"
   ]
  },
  {
   "cell_type": "markdown",
   "metadata": {},
   "source": [
    "The next four functions allow random floats in the interval [0.0, 1.0) to be generated. By the histograms below it could be concluded that these are effectively the same functions:\n",
    "\n",
    "- random_sample([size]) \tReturn random floats in the half-open interval [0.0, 1.0).\n",
    "- random([size]) \tReturn random floats in the half-open interval [0.0, 1.0).\n",
    "-ranf([size]) \tReturn random floats in the half-open interval [0.0, 1.0).\n",
    "- sample([size]) \tReturn random floats in the half-open interval [0.0, 1.0).\n",
    "[https://docs.scipy.org/doc/numpy-1.16.0/reference/routines.random.html]"
   ]
  },
  {
   "cell_type": "code",
   "execution_count": 21,
   "metadata": {},
   "outputs": [
    {
     "name": "stdout",
     "output_type": "stream",
     "text": [
      "[0.61053669 0.30514221 0.50770806 0.96839067 0.70648814 0.61107732\n",
      " 0.44228165 0.43232217 0.78196419 0.95576219]\n"
     ]
    },
    {
     "data": {
      "image/png": "[encoded data removed]",
      "text/plain": [
       "<Figure size 432x288 with 1 Axes>"
      ]
     },
     "metadata": {
      "needs_background": "light"
     },
     "output_type": "display_data"
    },
    {
     "name": "stdout",
     "output_type": "stream",
     "text": [
      "[0.51951738 0.63624022 0.3037619  0.96584512 0.86128131 0.9449318\n",
      " 0.7161838  0.77405853 0.15144013 0.5636293 ]\n"
     ]
    },
    {
     "data": {
      "image/png": "[encoded data removed]",
      "text/plain": [
       "<Figure size 432x288 with 1 Axes>"
      ]
     },
     "metadata": {
      "needs_background": "light"
     },
     "output_type": "display_data"
    },
    {
     "name": "stdout",
     "output_type": "stream",
     "text": [
      "[0.52014219 0.2284152  0.84177951 0.91872238 0.26877664 0.16486614\n",
      " 0.21052574 0.18310636 0.90920638 0.78773848]\n"
     ]
    },
    {
     "data": {
      "image/png": "[encoded data removed]",
      "text/plain": [
       "<Figure size 432x288 with 1 Axes>"
      ]
     },
     "metadata": {
      "needs_background": "light"
     },
     "output_type": "display_data"
    },
    {
     "name": "stdout",
     "output_type": "stream",
     "text": [
      "[0.14305625 0.71978869 0.79702367 0.39676273 0.060936   0.15674313\n",
      " 0.17488961 0.44556046 0.27831721 0.09348568]\n"
     ]
    },
    {
     "data": {
      "image/png": "[encoded data removed]",
      "text/plain": [
       "<Figure size 432x288 with 1 Axes>"
      ]
     },
     "metadata": {
      "needs_background": "light"
     },
     "output_type": "display_data"
    }
   ],
   "source": [
    "print(np.random.random_sample(10))\n",
    "plt.hist(np.random.random_sample(10000))\n",
    "plt.title(\"np.random.random_sample(10000)\")\n",
    "plt.show()\n",
    "print(np.random.random(10))\n",
    "plt.hist(np.random.random(10000))\n",
    "plt.title(\"np.random.random(10000)\")\n",
    "plt.show()\n",
    "print(np.random.ranf(10))\n",
    "plt.hist(np.random.ranf(10000))\n",
    "plt.title(\"np.random.ranf(10000)\")\n",
    "plt.show()\n",
    "print(np.random.sample(10))\n",
    "plt.hist(np.random.sample(10000))\n",
    "plt.title(\"np.random.sample(10000)\")\n",
    "plt.show()\n",
    "#np.random.choice(a[, size, replace, p])"
   ]
  },
  {
   "cell_type": "markdown",
   "metadata": {},
   "source": [
    "_np.random.choice_ function generates a random sample from a given 1-D array. This function takes at least one parameter as an input, with optional parameters being size, replace and probability.\n",
    "\n",
    "So _np.random.choice(10)_ returnes a single value randomly drawn from an array [0;10). When size is specified an array of random numbers of a specified size is drwn as in _np.random.choice(20, 10)_. As can be seen from an output below, the random numbers are drawn with replacement. In order to draw without replacement, replacement=False option is specified. In this cases a probability for drawing each number is the same. \n",
    "\n",
    "To draw numbers with different probability, probabilities can be specified. As can be seen below the array of 100 numbers contains values 0,2,3 in random order with more 3s than 2s and 0s, this is because the probality of 0 is specified 10%, the probability of 2s is 30% and 60% of 3s. If we were to count, we should find 10 0s, 30 2s and 60 3s. There are no 1s or 4s as specified probabilities for these numbers are zeros.\n"
   ]
  },
  {
   "cell_type": "code",
   "execution_count": 63,
   "metadata": {},
   "outputs": [
    {
     "name": "stdout",
     "output_type": "stream",
     "text": [
      "4\n",
      "[14 13  9 10 13  7  7 12  4 15]\n",
      "[ 9  0 11  4 19 16  3  1  8 14]\n",
      "[3 3 2 2 3 3 3 2 2 3 2 3 3 3 2 2 3 2 3 3 3 3 0 3 2 3 3 3 2 3 3 2 3 3 2 3 3\n",
      " 3 3 0 3 2 3 3 3 2 2 3 3 3 3 3 2 0 2 2 3 3 3 3 2 3 3 2 2 3 2 3 0 3 3 3 0 3\n",
      " 2 3 2 3 2 2 0 3 0 3 3 3 2 2 2 3 3 0 3 2 0 3 3 3 3 3]\n"
     ]
    }
   ],
   "source": [
    "# choose a random number from an array of numbers between 0 and 9\n",
    "print(np.random.choice(10))\n",
    "# generate an array of 10 random numbers chosen from an array between 0 and 20\n",
    "# with replaement\n",
    "print(np.random.choice(20, 10))\n",
    "# without replacement\n",
    "print(np.random.choice(20, 10, replace=False))\n",
    "# generate an array of 100 randomly sample values with raplecament \n",
    "# from an array of values 0 to 4 with different probalilities\n",
    "print(np.random.choice(5, 100, p=[0.1, 0, 0.3, 0.6, 0]))"
   ]
  },
  {
   "cell_type": "code",
   "execution_count": 54,
   "metadata": {},
   "outputs": [
    {
     "data": {
      "text/plain": [
       "b'\\xbdr\\xbe'"
      ]
     },
     "execution_count": 54,
     "metadata": {},
     "output_type": "execute_result"
    }
   ],
   "source": [
    "# generate 3 random bytes\n",
    "np.random.bytes(3)"
   ]
  },
  {
   "cell_type": "markdown",
   "metadata": {},
   "source": [
    "\n",
    "\n"
   ]
  },
  {
   "cell_type": "markdown",
   "metadata": {},
   "source": [
    "### Shuffle and Permutation\n",
    "\n",
    "Definition - In mathematics, permutation is the act of arranging the members of a set into a sequence or order, or, if the set is already ordered, rearranging (reordering) its elements—a process called permuting. In computer science, they are used for analyzing sorting algorithms.[https://en.wikipedia.org/wiki/Permutation]\n",
    "\n",
    "In _numpy.random_ package there are two functions that allow to either shuffle an existing array or generate an array of consequaential numbers in random order. Tere two functions are _shuffle_ and _permutation_:\n",
    "\n",
    "- shuffle(x) \tModify a sequence in-place by shuffling its contents.\n",
    "- permutation(x) \tRandomly permute a sequence, or return a permuted range."
   ]
  },
  {
   "cell_type": "code",
   "execution_count": 77,
   "metadata": {},
   "outputs": [
    {
     "name": "stdout",
     "output_type": "stream",
     "text": [
      "[0 1 2 3 4 5 6 7 8 9]\n",
      "[7 4 6 2 1 5 0 8 9 3]\n",
      "[8 9 7 3 2 0 4 5 1 6]\n",
      "[ 9 11  3  7  5]\n"
     ]
    }
   ],
   "source": [
    "# generate an array of 10 consequential number and print it\n",
    "a = np.arange(10)\n",
    "print(a)\n",
    "# shuffle this array and print it again\n",
    "np.random.shuffle(a)\n",
    "print(a)\n",
    "#generate an array of randomly positioned numbers from 0 to 9\n",
    "# print\n",
    "print(np.random.permutation(10))\n",
    "# similar to shaffle, reaaarnge the given numbers into random order\n",
    "print(np.random.permutation([3, 5, 7, 9, 11]))"
   ]
  },
  {
   "cell_type": "markdown",
   "metadata": {},
   "source": [
    "### Distributions\n"
   ]
  },
  {
   "cell_type": "markdown",
   "metadata": {},
   "source": [
    "#### BETA Distribution\n",
    "In probability theory and statistics, the beta distribution is a family of continuous probability distributions defined on the interval [0, 1] parametrized by two positive shape parameters, denoted by α and β, that appear as exponents of the random variable and control the shape of the distribution. It is a special case of the Dirichlet distribution. [https://en.wikipedia.org/wiki/Beta_distribution]\n",
    "\n",
    "**numpy.random.beta** - takes at least two arguments (α and β) and if not further argument is given returns a value between zero and one, so to apply the same distribution between x and y you simply do:\n",
    "\n",
    "$z = x + (np.random.beta(a, b) * (y - x))$\n",
    "\n",
    "In order to see how the parameters affect the shape of data generated, let's generate and two sets of random sequences from a Beta distribution (c and b below) with opposit values of α and β and graph them (see below)."
   ]
  },
  {
   "cell_type": "code",
   "execution_count": null,
   "metadata": {},
   "outputs": [],
   "source": [
    "import numpy as np\n",
    "import math\n",
    "from random import gauss"
   ]
  },
  {
   "cell_type": "code",
   "execution_count": 100,
   "metadata": {},
   "outputs": [
    {
     "name": "stdout",
     "output_type": "stream",
     "text": [
      "0.8073147820189984\n",
      "[0.89983106 0.95623733 0.94839144 ... 0.9407959  0.51374637 0.95977183]\n"
     ]
    },
    {
     "data": {
      "image/png": "[encoded data removed]",
      "text/plain": [
       "<Figure size 432x288 with 1 Axes>"
      ]
     },
     "metadata": {
      "needs_background": "light"
     },
     "output_type": "display_data"
    }
   ],
   "source": [
    "# generate a random number from beta distribution\n",
    "print(np.random.beta(5,1))\n",
    "# gen 100000 random numbers from Beta distribution\n",
    "c=np.random.beta(5, 1, 100000)\n",
    "d=np.random.beta(1, 5, 100000)\n",
    "# print first sequence to see that numbers are floats\n",
    "# between 0 and 1\n",
    "print(c)\n",
    "# graph both sequences on the same plot\n",
    "plt.hist(c, label=\"c\")\n",
    "plt.hist(d, label=\"b\")\n",
    "plt.legend()\n",
    "plt.show()"
   ]
  },
  {
   "cell_type": "markdown",
   "metadata": {},
   "source": [
    "#### BINOMIAL Distribution\n",
    "\n",
    "The binomial distribution is the discrete probability distribution of the number of successes in a sequence of n independent experiments. It has two parameters n and p. Each experiment is asking a yes–no question, and each with its own boolean-valued outcome: success/yes/true/one (with probability p) or failure/no/false/zero (with probability q = 1 − p). A single success/failure experiment is also called a Bernoulli trial or Bernoulli experiment and a sequence of outcomes is called a Bernoulli process; for a single trial, i.e., n = 1, the binomial distribution is a Bernoulli distribution. The binomial distribution is the basis for the popular binomial test of statistical significance.\n",
    "\n",
    "The binomial distribution is frequently used to model the number of successes in a sample of size n drawn with replacement from a population of size N. [https://en.wikipedia.org/wiki/Binomial_distribution]\n",
    "\n",
    "**numpy.random.binomial(n, p, size=None)** takes at least two parameters n and p. If only two parameters are given, the output is a single number. In an example below n=10 and probability is 0.5 that can be viewed as a coin thrown 10 times. So the output would indicate how many positive outcomes would result.\n",
    "\n",
    "If the experiement is repeated 100 times, then the output is an array of positive outcomes from each experients. If the experiemnt is repeated 100000 times, the histogram indicates that the distribution of oucomes is normally distributed. If a single coin is thrown is thrown 100000 times as expected equal number of heads and tails would result."
   ]
  },
  {
   "cell_type": "code",
   "execution_count": 196,
   "metadata": {},
   "outputs": [
    {
     "name": "stdout",
     "output_type": "stream",
     "text": [
      "6\n",
      "[4 7 3 7 5 6 5 5 4 6 5 6 5 3 4 6 4 6 5 3 6 5 4 4 4 4 3 5 7 4 7 2 6 6 7 5 7\n",
      " 2 6 6 6 7 5 4 7 4 5 2 3 8 7 4 5 7 3 4 3 2 7 4 4 7 5 6 5 7 4 6 3 6 4 4 7 1\n",
      " 5 3 6 3 3 6 3 4 6 6 3 6 4 6 4 5 3 2 5 7 5 2 6 5 6 7]\n"
     ]
    },
    {
     "data": {
      "image/png": "[encoded data removed]",
      "text/plain": [
       "<Figure size 432x288 with 2 Axes>"
      ]
     },
     "metadata": {
      "needs_background": "light"
     },
     "output_type": "display_data"
    }
   ],
   "source": [
    "print(np.random.binomial(10, 0.5))\n",
    "print(np.random.binomial(10, 0.5, 100))\n",
    "# plot two subplots for comparison\n",
    "plt.subplot(121)\n",
    "# 10 trials repeated 100000 times\n",
    "plt.hist(np.random.binomial(10, 0.5, 100000))\n",
    "plt.title(\"n=10\")\n",
    "plt.subplot(122)\n",
    "# 1 trail reapeated 100000 times\n",
    "plt.hist(np.random.binomial(1, 0.5, 1000000))\n",
    "plt.title(\"n=1\")\n",
    "plt.show()"
   ]
  },
  {
   "cell_type": "markdown",
   "metadata": {},
   "source": [
    "#### Chisquare Distribution\n",
    "\n",
    "The chi-square distribution (also chi-squared or $χ2$-distribution) with k degrees of freedom is the distribution of a sum of the squares of k independent standard normal random variables. The chi-square distribution is a special case of the gamma distribution and is one of the most widely used probability distributions in inferential statisticsfor  hypothesis testing and construction of confidence intervals.  [https://en.wikipedia.org/wiki/Chi-squared_distribution]\n",
    "\n",
    "**numpy.random.chisquare(df, size=None)** requeres at least one parameter - df. The shape of this distribution depends on degreed of freedom (df). if only one parameter is specified, then the output of this function is a single random number drawn from a chisquare distribution with df=5. If size is also specified (10 in the example), then an array of 10 numbers is given as an output.\n",
    "\n",
    "To see how degrees of freedom affect the shape of a distribution, see the histograms below for df=1, 5 and 100. The more the degrees of freedom, the more chisquare approximates the normal distribution.\n"
   ]
  },
  {
   "cell_type": "code",
   "execution_count": 204,
   "metadata": {},
   "outputs": [
    {
     "name": "stdout",
     "output_type": "stream",
     "text": [
      "1.4404655510279367\n",
      "[ 6.99986506  6.38659543  3.81803652  2.95463293  3.77578384  4.26011538\n",
      " 15.56881201  2.12316159  5.41922627  1.25072644]\n"
     ]
    },
    {
     "data": {
      "image/png": "[encoded data removed]",
      "text/plain": [
       "<Figure size 432x288 with 3 Axes>"
      ]
     },
     "metadata": {
      "needs_background": "light"
     },
     "output_type": "display_data"
    }
   ],
   "source": [
    "print(np.random.chisquare(5))\n",
    "print(np.random.chisquare(5, 10))\n",
    "# three subplots \n",
    "# plot with df 1\n",
    "plt.subplot(131)\n",
    "plt.hist(np.random.chisquare(1, 100000))\n",
    "plt.title(\"df=1\")\n",
    "# plot with df 5\n",
    "plt.subplot(132)\n",
    "plt.hist(np.random.chisquare(5, 100000))\n",
    "plt.title(\"df=5\")\n",
    "# plt with ds 100 \n",
    "plt.subplot(133)\n",
    "plt.hist(np.random.chisquare(100, 100000))\n",
    "plt.title(\"df=100\")\n",
    "plt.show()"
   ]
  },
  {
   "cell_type": "markdown",
   "metadata": {},
   "source": [
    "#### Exponential Distribution\n",
    "\n",
    "The exponential distribution is a particular case of the gamma distribution. The exponential distribution is not the same as the class of exponential families of distributions, which is a large class of probability distributions that includes the exponential distribution as one of its members, but also includes the normal distribution, binomial distribution, gamma distribution, Poisson, and many others. [https://en.wikipedia.org/wiki/Exponential_distribution]\n",
    "\n",
    " **numpy.random.exponential(scale=1.0, size=None)** takes at least one parameter. If only one parameter is given, then a single random number is returned. If a size parameter is given, then an array of random numbers are returned. Histograms with different scale numberes show that the shape is unaffected (it's scewed to the lesft) but the higher is the scale, the more the distribution is dispearsed."
   ]
  },
  {
   "cell_type": "code",
   "execution_count": 205,
   "metadata": {},
   "outputs": [
    {
     "name": "stdout",
     "output_type": "stream",
     "text": [
      "1.0802729163686922\n",
      "23.445941652669795\n",
      "[1.07220881 3.21546681 0.49790391 2.93508832 1.07567808 0.29490949\n",
      " 3.44409186 0.94145908 2.30696826 0.95534435]\n",
      "[24.2272615   5.28469233 25.48188934  6.98842763  0.85054994  7.01577625\n",
      "  9.28990284 13.77734621 11.67107316  2.07849928]\n"
     ]
    },
    {
     "data": {
      "image/png": "[encoded data removed]",
      "text/plain": [
       "<Figure size 432x288 with 2 Axes>"
      ]
     },
     "metadata": {
      "needs_background": "light"
     },
     "output_type": "display_data"
    }
   ],
   "source": [
    "print(np.random.exponential(scale=1.0))\n",
    "print(np.random.exponential(scale=10.0))\n",
    "print(np.random.exponential(scale=1.0, size=10))\n",
    "print(np.random.exponential(scale=10.0, size=10))\n",
    "# plot on two subplots\n",
    "# with scale 1\n",
    "plt.subplot(121)\n",
    "plt.hist(np.random.exponential(scale=1.0, size=10000))  \n",
    "plt.title(\"scale=1.0, size=10000\")\n",
    "# with scale 5\n",
    "plt.subplot(122)\n",
    "plt.hist(np.random.exponential(scale=5, size=10000))\n",
    "plt.title(\"scale=5, size=10000\")\n",
    "plt.show()"
   ]
  },
  {
   "cell_type": "markdown",
   "metadata": {},
   "source": [
    "#### F Distribution\n",
    "\n",
    "In probability theory and statistics, the F-distribution is a continuous probability distribution that arises frequently as the null distribution of a test statistic, most notably in the analysis of variance (ANOVA), e.g., F-test. [https://en.wikipedia.org/wiki/F-distribution]\n",
    "\n",
    "In plainer terms if one wants to determine if the pattern in the data is significantly different from no pattern at all the probability functions permit one to determine the chance that the model is different. [https://magoosh.com/statistics/f-distribution-explained/] The F statistic is used to compare in-group variances to between-group variances. The shape of the F function depends on the respective degrees of freedom in the problem. The dfnum is the number of samples minus one, the between-groups degrees of freedom, while dfden is the within-groups degrees of freedom, the sum of the number of samples in each group minus the number of groups. [https://docs.scipy.org/doc/numpy-1.16.0/reference/generated/numpy.random.f.html#numpy.random.f]\n",
    "\n",
    "**numpy.random.f(dfnum, dfden, size=None)** draws random numbers from F distribution. It takes at leat two parameters for two degrees of freedom. If no futher parameters are given, the outtput is a single float. Is size is given, then an array is outputted.\n",
    "\n",
    "The shape of the distribution is dependent on the degrees of freedom, which can be seen on the histograms below. The higher ythe degrees of freedom, the more F distribution looks like normal, bell-shaped distribution."
   ]
  },
  {
   "cell_type": "code",
   "execution_count": 227,
   "metadata": {},
   "outputs": [
    {
     "name": "stdout",
     "output_type": "stream",
     "text": [
      "1.076973764778308\n",
      "[0.81271582 4.67496958 1.00717188 0.69348959 0.43680931 0.01616923\n",
      " 2.19414158 0.22703813 0.05764879 1.91232151]\n"
     ]
    },
    {
     "data": {
      "image/png": "[encoded data removed]",
      "text/plain": [
       "<Figure size 432x288 with 2 Axes>"
      ]
     },
     "metadata": {
      "needs_background": "light"
     },
     "output_type": "display_data"
    }
   ],
   "source": [
    "# generate and print a randon number from F distributio\n",
    "print(np.random.f(1, 100))\n",
    "# print 10 random numbers from F distribution\n",
    "print(np.random.f(1, 100, 10))\n",
    "# plot two subplots\n",
    "plt.subplot(121)\n",
    "# with df1=1 and df2=100\n",
    "plt.hist(np.random.f(1, 100, size=100000))\n",
    "plt.title(\"df1=1, df2=100\")\n",
    "# with df1=100 and df2=100\n",
    "plt.subplot(122)\n",
    "plt.hist(np.random.f(100, 100, size=100000))\n",
    "plt.title(\"df1=100, df2=100\")\n",
    "plt.show()"
   ]
  },
  {
   "cell_type": "markdown",
   "metadata": {},
   "source": [
    "### Seed\n",
    "\n",
    "A random seed specifies the start point when a computer generates a random number sequence. This can be any number, but it usually comes from seconds on a computer system’s clock . [https://www.statisticshowto.datasciencecentral.com/random-seed-definition/]\n",
    "\n",
    "So if the seed is not specified, random numbers generated by numpy.random package are changing each time with run the code. However, if a seed is specified, then the same data is outputted every time. This is bcause random number generating algarithm has "
   ]
  },
  {
   "cell_type": "code",
   "execution_count": 226,
   "metadata": {},
   "outputs": [
    {
     "name": "stdout",
     "output_type": "stream",
     "text": [
      "[0.61252607 0.72175532 0.29187607 0.91777412 0.71457578 0.54254437\n",
      " 0.14217005 0.37334076 0.67413362 0.44183317]\n",
      "[0.77132064 0.02075195 0.63364823 0.74880388 0.49850701 0.22479665\n",
      " 0.19806286 0.76053071 0.16911084 0.08833981]\n",
      "[0.77132064 0.02075195 0.63364823 0.74880388 0.49850701 0.22479665\n",
      " 0.19806286 0.76053071 0.16911084 0.08833981]\n"
     ]
    }
   ],
   "source": [
    "print(np.random.rand(10))\n",
    "\n",
    "np.random.seed(seed=10)\n",
    "print(np.random.rand(10))\n",
    "np.random.seed(seed=10)\n",
    "print(np.random.rand(10))  "
   ]
  },
  {
   "cell_type": "code",
   "execution_count": null,
   "metadata": {},
   "outputs": [],
   "source": []
  },
  {
   "cell_type": "code",
   "execution_count": null,
   "metadata": {},
   "outputs": [],
   "source": []
  }
 ],
 "metadata": {
  "kernelspec": {
   "display_name": "Python 3",
   "language": "python",
   "name": "python3"
  },
  "language_info": {
   "codemirror_mode": {
    "name": "ipython",
    "version": 3
   },
   "file_extension": ".py",
   "mimetype": "text/x-python",
   "name": "python",
   "nbconvert_exporter": "python",
   "pygments_lexer": "ipython3",
   "version": "3.7.3"
  }
 },
 "nbformat": 4,
 "nbformat_minor": 2
}
