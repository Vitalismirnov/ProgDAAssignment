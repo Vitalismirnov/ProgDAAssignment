{
 "cells": [
  {
   "cell_type": "markdown",
   "metadata": {},
   "source": [
    "# Assignment\n",
    "## Programming for DA\n",
    "### Student: Vitalijs Smirnovs\n",
    "### ID: G00317774¶\n"
   ]
  },
  {
   "cell_type": "markdown",
   "metadata": {},
   "source": [
    "1.\tExplain the overall purpose of the package.\n",
    "2.\tExplain the use of the “Simple random data” and “Permutations” functions.\n",
    "3.\tExplain the use and purpose of at least five “Distributions” functions.\n",
    "4.\tExplain the use of seeds in generating pseudorandom numbers.\n"
   ]
  },
  {
   "cell_type": "code",
   "execution_count": 1,
   "metadata": {},
   "outputs": [],
   "source": [
    "import matplotlib.pyplot as plt\n",
    "import numpy as np\n"
   ]
  },
  {
   "cell_type": "markdown",
   "metadata": {},
   "source": [
    "Tere are a number of functions in a numpy.random that have different default features."
   ]
  },
  {
   "cell_type": "code",
   "execution_count": 5,
   "metadata": {},
   "outputs": [
    {
     "name": "stdout",
     "output_type": "stream",
     "text": [
      "0.8213804631152051\n",
      "[[0.70387467 0.96820364 0.83091012]\n",
      " [0.55849858 0.08737775 0.65194021]\n",
      " [0.14428559 0.02165235 0.61757636]\n",
      " [0.57383738 0.2859079  0.48048509]]\n"
     ]
    }
   ],
   "source": [
    "print(np.random.rand())\n",
    "print(np.random.rand(4,3))"
   ]
  },
  {
   "cell_type": "markdown",
   "metadata": {},
   "source": []
  },
  {
   "cell_type": "code",
   "execution_count": 3,
   "metadata": {},
   "outputs": [
    {
     "data": {
      "text/plain": [
       "(array([123.,  86., 106.,  79., 119.,  90.,  99.,  85., 111., 102.]),\n",
       " array([4.06641069e-04, 1.00332619e-01, 2.00258597e-01, 3.00184575e-01,\n",
       "        4.00110553e-01, 5.00036532e-01, 5.99962510e-01, 6.99888488e-01,\n",
       "        7.99814466e-01, 8.99740444e-01, 9.99666422e-01]),\n",
       " <a list of 10 Patch objects>)"
      ]
     },
     "execution_count": 3,
     "metadata": {},
     "output_type": "execute_result"
    },
    {
     "data": {
      "image/png": "[encoded data removed]",
      "text/plain": [
       "<Figure size 432x288 with 1 Axes>"
      ]
     },
     "metadata": {
      "needs_background": "light"
     },
     "output_type": "display_data"
    }
   ],
   "source": [
    "plt.hist(np.random.rand(1000))"
   ]
  },
  {
   "cell_type": "code",
   "execution_count": 4,
   "metadata": {},
   "outputs": [
    {
     "data": {
      "text/plain": [
       "(array([  7.,  28., 101., 200., 275., 217., 123.,  38.,  10.,   1.]),\n",
       " array([-3.12896909, -2.45107837, -1.77318765, -1.09529694, -0.41740622,\n",
       "         0.2604845 ,  0.93837522,  1.61626594,  2.29415666,  2.97204737,\n",
       "         3.64993809]),\n",
       " <a list of 10 Patch objects>)"
      ]
     },
     "execution_count": 4,
     "metadata": {},
     "output_type": "execute_result"
    },
    {
     "data": {
      "image/png": "[encoded data removed]",
      "text/plain": [
       "<Figure size 432x288 with 1 Axes>"
      ]
     },
     "metadata": {
      "needs_background": "light"
     },
     "output_type": "display_data"
    }
   ],
   "source": [
    "np.random.randn()\n",
    "np.random.randn(4,3)\n",
    "plt.hist(np.random.randn(1000))\n"
   ]
  },
  {
   "cell_type": "code",
   "execution_count": null,
   "metadata": {},
   "outputs": [],
   "source": []
  }
 ],
 "metadata": {
  "kernelspec": {
   "display_name": "Python 3",
   "language": "python",
   "name": "python3"
  },
  "language_info": {
   "codemirror_mode": {
    "name": "ipython",
    "version": 3
   },
   "file_extension": ".py",
   "mimetype": "text/x-python",
   "name": "python",
   "nbconvert_exporter": "python",
   "pygments_lexer": "ipython3",
   "version": "3.7.3"
  }
 },
 "nbformat": 4,
 "nbformat_minor": 2
}
