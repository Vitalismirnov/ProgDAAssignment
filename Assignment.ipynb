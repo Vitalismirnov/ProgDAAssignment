{
 "cells": [
  {
   "cell_type": "markdown",
   "metadata": {},
   "source": [
    "# Assignment\n",
    "## Programming for DA\n",
    "### Student: Vitalijs Smirnovs\n",
    "### ID: G00317774¶\n"
   ]
  },
  {
   "cell_type": "markdown",
   "metadata": {},
   "source": [
    "1.\tExplain the overall purpose of the package.\n",
    "2.\tExplain the use of the “Simple random data” and “Permutations” functions.\n",
    "3.\tExplain the use and purpose of at least five “Distributions” functions.\n",
    "4.\tExplain the use of seeds in generating pseudorandom numbers.\n"
   ]
  },
  {
   "cell_type": "markdown",
   "metadata": {},
   "source": [
    "### 1. Explain the overall purpose of the package.\n",
    "\n",
    "_Numpy.Random_ is a part of scientific computing tool for Python it is an open source software for scientific computing. This package was dveloped by _scipy.org_ for generating random numbers with diferent shapes and distributions. \n",
    "\n",
    "_SciPy_ refers to several related but distinct entities the _SciPy_ library,which is a collection of numerical algorithms and domain-specific toolboxes, including signal processing, optimization, statistics and much more.\n",
    "\n",
    "The package contains multiple functions which could be used in diferent situation for different tasks to represent data.\n",
    "\n",
    "A random _seed_ is a starting point in generating random numbers. A random seed specifies the starting point from which a computer generates a random number sequence. This can be any number, but it usually comes from seconds on a computer system's clock. \n",
    "\n",
    "**_Sources_**:\n",
    "[https://www.statisticshowto.datasciencecentral.com/random-seed-definition/]\n",
    "[https://scipy.org/about.html]"
   ]
  },
  {
   "cell_type": "code",
   "execution_count": 1,
   "metadata": {},
   "outputs": [],
   "source": [
    "# import libraries for analysis                                                                                                                                                                                                                                                                                                                                                                                        #import necessary library\n",
    "import matplotlib.pyplot as plt\n",
    "import numpy as np\n"
   ]
  },
  {
   "cell_type": "markdown",
   "metadata": {},
   "source": [
    "There are number of functions in a numpy.random library that generate random numbers. The generate random numbers in different shapes and distribution.\n",
    "\n",
    "The firts command bellow  - _np.random.rand_ - creates an array of the given shape and populates it with random numbers sampled from a uniform distribution in a range of [0, 1).  A unifor  distribution meand that every number has the same probability to be generated. See a histogram output below.\n",
    "\n",
    "We could add no, one or multiple parameters and get random returns and all of them would be positive:\n",
    " - If no parameter is given as in **np.random.rand()**, then a single ramdom number is returned.\n",
    " - If a single paramenter is inputted, as in **np.random.rand(10)**, an array of 10 random numbers will be returned\n",
    " - If a number of parameters are inputed, they are called dimentions as in **np.random.rand(4,3)**, an array with 4 rows and 3 columns will be returned.\n",
    " "
   ]
  },
  {
   "cell_type": "code",
   "execution_count": 6,
   "metadata": {},
   "outputs": [
    {
     "name": "stdout",
     "output_type": "stream",
     "text": [
      "0.4269526623337433\n",
      "[0.32515106 0.20609627 0.19395798 0.03519215 0.94132327 0.49120154\n",
      " 0.82605176 0.43311922 0.98783552 0.90840142]\n",
      "[[0.04688612 0.73671137 0.94780543]\n",
      " [0.8408681  0.30455129 0.27528389]\n",
      " [0.57856014 0.99881591 0.73721868]\n",
      " [0.507225   0.06073644 0.33964027]]\n"
     ]
    },
    {
     "data": {
      "image/png": "[encoded data removed]",
      "text/plain": [
       "<Figure size 432x288 with 1 Axes>"
      ]
     },
     "metadata": {
      "needs_background": "light"
     },
     "output_type": "display_data"
    }
   ],
   "source": [
    "# generate and print on screen a random number\n",
    "print(np.random.rand())\n",
    "# generate and print 10 an array of 10 random numbers\n",
    "print(np.random.rand(10))\n",
    "# generate and print an array of random numbers with 4 rows and 3 columns\n",
    "print(np.random.rand(4,3))\n",
    "# draw a historgam\n",
    "plt.hist(np.random.rand(10000))\n",
    "plt.show()"
   ]
  },
  {
   "cell_type": "markdown",
   "metadata": {},
   "source": [
    "The random data generated is in uniform distribution (every value generated has the same probability) as can be seen on by plotting the values on a historgam below. "
   ]
  },
  {
   "cell_type": "code",
   "execution_count": null,
   "metadata": {},
   "outputs": [],
   "source": [
    "import numpy as np"
   ]
  },
  {
   "cell_type": "code",
   "execution_count": null,
   "metadata": {},
   "outputs": [],
   "source": [
    "plt.hist(np.random.rand(1000))\n",
    "plt.show()"
   ]
  },
  {
   "cell_type": "code",
   "execution_count": null,
   "metadata": {},
   "outputs": [],
   "source": [
    " numpy.random.randint(low, high=None, size=None, dtype='l')\n",
    "Return random integers from low (inclusive) to high (exclusive).  \n",
    "numpy.random.randint(low, high=None, size=None, dtype='l')¶\n",
    "Return random integers from the “discrete uniform” distribution of the specified dtype in the “half-open” interval [low, high).\n",
    "If high is None (the default), then results are from [0, low).\n",
    "    \n",
    "    \n",
    "    "
   ]
  },
  {
   "cell_type": "code",
   "execution_count": null,
   "metadata": {},
   "outputs": [],
   "source": [
    "np.random.randn()\n",
    "np.random.randn(4,3)\n",
    "plt.hist(np.random.randn(1000))\n",
    "plt.show()"
   ]
  },
  {
   "cell_type": "code",
   "execution_count": null,
   "metadata": {},
   "outputs": [],
   "source": [
    "print(np.random.randint(10,size=10))\n",
    "\n",
    "#random_integers(low[, high, size]) \n",
    "\n",
    "plt.hist(np.random.randint(10,size=10000) )\n",
    "plt.title(\"random.randint(10,size=10000)\")\n",
    "plt.show()\n"
   ]
  },
  {
   "cell_type": "code",
   "execution_count": null,
   "metadata": {},
   "outputs": [],
   "source": [
    " numpy.random.randint(low, high=None, size=None, dtype='l')¶\n",
    "\n",
    "    Return random integers from low (inclusive) to high (exclusive).\n",
    "\n",
    "    Return random integers from the “discrete uniform” distribution of the specified dtype in the “half-open” interval [low, high). If high is None (the default), then results are from [0, low)."
   ]
  },
  {
   "cell_type": "code",
   "execution_count": null,
   "metadata": {},
   "outputs": [],
   "source": [
    "random_sample([size]) \tReturn random floats in the half-open interval [0.0, 1.0).\n",
    "random([size]) \tReturn random floats in the half-open interval [0.0, 1.0).\n",
    "ranf([size]) \tReturn random floats in the half-open interval [0.0, 1.0).\n",
    "sample([size]) \tReturn random floats in the half-open interval [0.0, 1.0).\n",
    "choice(a[, size, replace, p])"
   ]
  },
  {
   "cell_type": "code",
   "execution_count": null,
   "metadata": {},
   "outputs": [],
   "source": [
    "bytes(length)"
   ]
  },
  {
   "cell_type": "markdown",
   "metadata": {},
   "source": [
    "### Simple random data\n",
    "\n"
   ]
  },
  {
   "cell_type": "markdown",
   "metadata": {},
   "source": [
    "### Simple random example:\n",
    "We deside to play a footbol with team of 12 players. We woild need to decide and pick a simple random sample of 2 players who will be a goalkeeper. \n",
    "Then we will use numbers 0-12 and will uses the paper sticker where will be written the number to say 3 and 7 random then we will mix the 12 identical paperstickers in the jar and let the players choose a paper. A player who will choose the paper with the number 3 and 7 will be a goalkeeper\n",
    "\n",
    "The sample cannot contain numbers ouside the 0 - 12 range."
   ]
  },
  {
   "cell_type": "markdown",
   "metadata": {},
   "source": [
    "### Prmutation\n",
    "\n",
    "Definition - In mathematics, permutation is the act of arranging the members of a set into a sequence or order, or, if the set is already ordered, rearranging (reordering) its elements—a process called permuting.\n",
    "Permutations are studied in almost every branch of mathematics, and in many other fields of science. In computer science, they are used for analyzing sorting algorithms.\n",
    "\n",
    "[https://en.wikipedia.org/wiki/Permutation]\n",
    "\n"
   ]
  },
  {
   "cell_type": "code",
   "execution_count": null,
   "metadata": {},
   "outputs": [],
   "source": [
    "shuffle(x) \tModify a sequence in-place by shuffling its contents.\n",
    "permutation(x) \tRandomly permute a sequence, or return a permuted range."
   ]
  },
  {
   "cell_type": "markdown",
   "metadata": {},
   "source": [
    "### Distributions\n"
   ]
  },
  {
   "cell_type": "raw",
   "metadata": {},
   "source": [
    "BETA\n",
    "numpy.random.beta - will give a value between zero and one, so to apply the same distribution between x and y you simply do:\n",
    "z = x + (np.random.beta(a, b) * (y - x))"
   ]
  },
  {
   "cell_type": "code",
   "execution_count": null,
   "metadata": {},
   "outputs": [],
   "source": [
    "import numpy as np\n",
    "import math\n",
    "from random import gauss"
   ]
  },
  {
   "cell_type": "code",
   "execution_count": null,
   "metadata": {},
   "outputs": [],
   "source": []
  }
 ],
 "metadata": {
  "kernelspec": {
   "display_name": "Python 3",
   "language": "python",
   "name": "python3"
  },
  "language_info": {
   "codemirror_mode": {
    "name": "ipython",
    "version": 3
   },
   "file_extension": ".py",
   "mimetype": "text/x-python",
   "name": "python",
   "nbconvert_exporter": "python",
   "pygments_lexer": "ipython3",
   "version": "3.7.3"
  }
 },
 "nbformat": 4,
 "nbformat_minor": 2
}
