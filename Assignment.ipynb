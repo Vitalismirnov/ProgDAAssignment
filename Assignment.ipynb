{
 "cells": [
  {
   "cell_type": "markdown",
   "metadata": {},
   "source": [
    "# Assignment\n",
    "## Programming for DA\n",
    "### Student: Vitalijs Smirnovs\n",
    "### ID: G00317774¶\n"
   ]
  },
  {
   "cell_type": "markdown",
   "metadata": {},
   "source": [
    "1.\tExplain the overall purpose of the package.\n",
    "2.\tExplain the use of the “Simple random data” and “Permutations” functions.\n",
    "3.\tExplain the use and purpose of at least five “Distributions” functions.\n",
    "4.\tExplain the use of seeds in generating pseudorandom numbers.\n"
   ]
  },
  {
   "cell_type": "markdown",
   "metadata": {},
   "source": [
    "### 1. Explain the overall purpose of the package.\n",
    "\n",
    "**Numpy.Random** is a part of scientific computing tool for Python it is an open source software for scientific computing this package dveloped by scipy.org it could generate random numbers with diferent shapes and distributions. \n",
    "\n",
    "SciPy refers to several related but distinct entities the SciPy library, a collection of numerical algorithms and domain-specific toolboxes, including signal processing, optimization, statistics and much more.\n",
    "\n",
    "\n",
    "\n",
    "The Package contain multiple functions \n",
    "\n",
    "\n",
    "\n",
    "\n",
    "\n",
    "\n",
    "A random seed is a starting point in generating random numbers. A random seed specifies the start point when a computer generates a random number sequence. This can be any number, but it usually comes from seconds on a computer system's clock  \n",
    "\n",
    "[https://www.statisticshowto.datasciencecentral.com/random-seed-definition/]\n",
    "[https://scipy.org/about.html]"
   ]
  },
  {
   "cell_type": "code",
   "execution_count": null,
   "metadata": {},
   "outputs": [],
   "source": [
    "#import necessary library\n",
    "import matplotlib.pyplot as plt\n",
    "import numpy as np\n"
   ]
  },
  {
   "cell_type": "markdown",
   "metadata": {},
   "source": [
    "There are number of functions in a numpy.random that have different default features.\n",
    "The firts command bellow np.random.rand create an array of the given shape and populate it with random samples from a uniform distribution over [0, 1). We could add one or multiple parameters and get random returns and all of them should be positive. \n",
    "\n",
    "The second command is array 4 by 3 from the “standard normal” distribution. A randn generates an array of shape, filled with random floats sampled from a univariate “normal” (Gaussian) distribution of mean 0 and variance 1"
   ]
  },
  {
   "cell_type": "code",
   "execution_count": 14,
   "metadata": {},
   "outputs": [
    {
     "name": "stdout",
     "output_type": "stream",
     "text": [
      "0.83594726421575\n",
      "[[0.01625582 0.13861662 0.12569186]\n",
      " [0.49281231 0.43728907 0.47866189]\n",
      " [0.38767901 0.5975253  0.76660713]\n",
      " [0.19038881 0.27974894 0.32183105]]\n"
     ]
    }
   ],
   "source": [
    "print(np.random.rand())\n",
    "print(np.random.rand(4,3))"
   ]
  },
  {
   "cell_type": "markdown",
   "metadata": {},
   "source": [
    "The random data generated is in uniform distribution (every value generated has the same probability) as can be seen on by plotting the values on a historgam below. "
   ]
  },
  {
   "cell_type": "code",
   "execution_count": 16,
   "metadata": {},
   "outputs": [
    {
     "data": {
      "image/png": "[encoded data removed]",
      "text/plain": [
       "<Figure size 432x288 with 1 Axes>"
      ]
     },
     "metadata": {
      "needs_background": "light"
     },
     "output_type": "display_data"
    }
   ],
   "source": [
    "plt.hist(np.random.rand(1000))\n",
    "plt.show()"
   ]
  },
  {
   "cell_type": "code",
   "execution_count": 17,
   "metadata": {},
   "outputs": [
    {
     "data": {
      "image/png": "[encoded data removed]",
      "text/plain": [
       "<Figure size 432x288 with 1 Axes>"
      ]
     },
     "metadata": {
      "needs_background": "light"
     },
     "output_type": "display_data"
    }
   ],
   "source": [
    "np.random.randn()\n",
    "np.random.randn(4,3)\n",
    "plt.hist(np.random.randn(1000))\n",
    "plt.show()"
   ]
  },
  {
   "cell_type": "code",
   "execution_count": null,
   "metadata": {},
   "outputs": [],
   "source": [
    "randint(low[, high, size, dtype]) \n",
    "random_integers(low[, high, size]) \n",
    "\n",
    "\n"
   ]
  },
  {
   "cell_type": "code",
   "execution_count": null,
   "metadata": {},
   "outputs": [],
   "source": []
  }
 ],
 "metadata": {
  "kernelspec": {
   "display_name": "Python 3",
   "language": "python",
   "name": "python3"
  },
  "language_info": {
   "codemirror_mode": {
    "name": "ipython",
    "version": 3
   },
   "file_extension": ".py",
   "mimetype": "text/x-python",
   "name": "python",
   "nbconvert_exporter": "python",
   "pygments_lexer": "ipython3",
   "version": "3.7.3"
  }
 },
 "nbformat": 4,
 "nbformat_minor": 2
}
